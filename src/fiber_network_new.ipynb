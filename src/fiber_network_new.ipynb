{
 "cells": [
  {
   "cell_type": "markdown",
   "metadata": {},
   "source": [
    "# Fiber Network\n",
    "\n",
    "The problem provided in this example is a fiber network with fixed-fixed (both displacement and moments) boundary conditions with a prescribed compressive displacement (i.e. nonhomogenous Dirichlet Boundary Condition) on the top boundary. Each fiber is modeled with 2D geometrically exact beams (i.e. Simo-Reissner Beams). For more information on beams [see here](../force_control/beam/README.md).\n",
    "\n",
    "<img src=\"imgs/fiber.png\" width=\"500\">\n"
   ]
  },
  {
   "cell_type": "markdown",
   "metadata": {},
   "source": [
    "# Install FEniCS and FEniCS arclength in Google Colab environment\n",
    "This step will automatically skip if not in a Google Colab environment."
   ]
  },
  {
   "cell_type": "code",
   "execution_count": 1,
   "metadata": {},
   "outputs": [],
   "source": [
    "try:\n",
    "  import google.colab\n",
    "  !wget \"https://fem-on-colab.github.io/releases/fenics-install-real.sh\" -O \"/tmp/fenics-install.sh\" && bash \"/tmp/fenics-install.sh\"\n",
    "  !git clone https://github.com/pprachas/fenics_arclength.git\n",
    "  %cd fenics_arclength\n",
    "  !pip install .\n",
    "  %cd examples/displacement_control\n",
    "\n",
    "except ImportError:\n",
    "  pass"
   ]
  },
  {
   "cell_type": "code",
   "execution_count": 4,
   "metadata": {},
   "outputs": [],
   "source": [
    "%matplotlib inline\n",
    "from dolfin import *\n",
    "import numpy as np\n",
    "import matplotlib.pyplot as plt\n",
    "from displacement_control_solver import displacement_control # import displacement control formulation of arc-length solver\n",
    "\n",
    "#Testing\n",
    "import h5py\n",
    "import numpy as np\n",
    "\n",
    "with h5py.File('voronoi.h5', 'r') as f:\n",
    "    # Read datasets\n",
    "    nodes = f['/data0'][:]  # Node coordinates (3268, 2)\n",
    "    elements = f['/data1'][:]  # Element connectivity (3505, 2)\n",
    "    regions = f['/data2'][:]  # Region labels (3505,)\n",
    "\n",
    "# Dealing with ufl legacy\n",
    "try:\n",
    "    from ufl import diag, Jacobian, shape\n",
    "except:\n",
    "    from ufl_legacy import diag, Jacobian, shape\n",
    "\n",
    "parameters[\"form_compiler\"][\"cpp_optimize\"] = True\n",
    "parameters[\"form_compiler\"][\"quadrature_degree\"] = 3\n",
    "parameters['reorder_dofs_serial'] = False\n",
    "\n",
    "ffc_options = {\"optimize\": True, \\\n",
    "               \"eliminate_zeros\": True, \\\n",
    "               \"precompute_basis_const\": True, \\\n",
    "               \"precompute_ip_const\": True}"
   ]
  },
  {
   "cell_type": "markdown",
   "metadata": {},
   "source": [
    "## Import Mesh and define function spaces\n",
    "In the case of 2D beams we also define the rotation matrix about the $z$ axis and directional derivative with respect to the beam centerline."
   ]
  },
  {
   "cell_type": "code",
   "execution_count": 2,
   "metadata": {},
   "outputs": [],
   "source": [
    "mesh = Mesh()\n",
    "with XDMFFile('voronoi.xdmf') as infile:\n",
    "    infile.read(mesh)\n",
    "\n",
    "Ue = VectorElement(\"CG\", mesh.ufl_cell(), 2, dim=2) # displacement\n",
    "Te = FiniteElement(\"CG\", mesh.ufl_cell(), 1) # rotation\n",
    "\n",
    "V = FunctionSpace(mesh, MixedElement([Ue, Te]))\n",
    "\n",
    "v_ = TestFunction(V)\n",
    "u_, theta_ = split(v_)\n",
    "dv = TrialFunction(V)\n",
    "v = Function(V, name=\"Generalized displacement\")\n",
    "u, theta = split(v)\n",
    "\n",
    "VR = TensorFunctionSpace(mesh, \"DG\", 0, shape=(2, 2))\n",
    "\n",
    "V0 = FunctionSpace(mesh, \"DG\", 0)\n",
    "\n",
    "Vu = V.sub(0).collapse()\n",
    "disp = Function(Vu)\n",
    "\n",
    "Jac = Jacobian(mesh)\n",
    "gdim = mesh.geometry().dim()\n",
    "Jac = as_vector([Jac[i, 0] for i in range(gdim)])\n",
    "g01 = Jac/sqrt(dot(Jac, Jac))\n",
    "g02 = as_vector([-g01[1], g01[0]])\n",
    "\n",
    "r01 = outer(g01, as_vector([1, 0]))\n",
    "r02 = outer(g02, as_vector([0, 1]))\n",
    "\n",
    "R0 = r01 + r02\n",
    "\n",
    "#-----------------------Define Functions for beams-----------------------------------#\n",
    "def tgrad(u): # directional derivative w.r.t. beam centerline\n",
    "    return dot(grad(u), g01)\n",
    "\n",
    "def rotation_matrix(theta): # 2D rotation matrix -- there is no need to do rotation parametrization for 2D beams\n",
    "    return as_tensor([[cos(theta), -sin(theta)], [sin(theta), cos(theta)]])\n",
    "Rot = rotation_matrix(theta)"
   ]
  },
  {
   "cell_type": "markdown",
   "metadata": {},
   "source": [
    "## Define Dirichlet Boundary Conditions\n",
    "\n",
    "**Note that for the case of displacement control, the FEniCS expression for the applied displacement must be positive to prevent convergence issues.**\n",
    "\n",
    "For example:\n",
    "\n",
    "```\n",
    "apply_disp = Expression(\"t\", t = 0.0, degree = 0)\n",
    "```\n",
    "is valid and will not have convergence issues while\n",
    "```\n",
    "apply_disp = Expression(\"-t\", t = 0.0, degree = 0)\n",
    "```\n",
    "can cause convergence issues.\n",
    "\n",
    "The direction of applied loading will be determined by the initial load step."
   ]
  },
  {
   "cell_type": "code",
   "execution_count": 3,
   "metadata": {},
   "outputs": [],
   "source": [
    "H = 100.0\n",
    "w = 100.0\n",
    "\n",
    "def bottom(x, on_boundary):\n",
    "    return near(x[1], 0, 1e-6)\n",
    "def top(x, on_boundary):\n",
    "    return near(x[1], H, 1e-6)\n",
    "\n",
    "def left(x, on_boundary):\n",
    "    return near(x[0], 0, 1e-6)\n",
    "def right(x, on_boundary):\n",
    "    return near(x[0], w, 1e-6)\n",
    "\n",
    "BC_bot = DirichletBC(V, Constant((0.0, 0.0, 0.0)), bottom) # fixed displacement and rotation\n",
    "BC_top_x = DirichletBC(V.sub(0).sub(0), Constant(0.0), top) # fix displacement\n",
    "BC_top_rot = DirichletBC(V.sub(1), Constant(0.0), top) # fix rotation\n",
    "\n",
    "apply_disp = Expression(\"t\", t=0.0, degree=0) # Create expression to compress the top\n",
    "BC_top_y = DirichletBC(V.sub(0).sub(1), apply_disp, top) # incrementally compress the top\n",
    "\n",
    "bcs = [BC_bot, BC_top_y, BC_top_rot, BC_top_x]"
   ]
  },
  {
   "cell_type": "markdown",
   "metadata": {},
   "source": [
    "## Kinematics and Weak Form"
   ]
  },
  {
   "cell_type": "code",
   "execution_count": 4,
   "metadata": {},
   "outputs": [],
   "source": [
    "# Kinematics: This is \"total\" beam formulation\n",
    "defo = dot(R0.T, dot(Rot.T, g01 + tgrad(u)) - g01)\n",
    "curv = tgrad(theta)"
   ]
  },
  {
   "cell_type": "code",
   "execution_count": 5,
   "metadata": {},
   "outputs": [],
   "source": [
    "# Geometrical properties\n",
    "S = 1.5 * 3 # cross-sectional area\n",
    "I = 3 * 1.5**3 / 12 # Area moment\n",
    "G = 0.0412 # Shear Modulus\n",
    "nu = 0.5\n",
    "E = 2 * G * (1 + nu)\n",
    "\n",
    "kappa = 5 * (1 + nu) / (6 + 5 * nu) # Shear correction (Timoshenko)\n",
    "\n",
    "# Stiffness moduli\n",
    "ES = E * S\n",
    "GS = G * kappa * S\n",
    "EI = E * I"
   ]
  },
  {
   "cell_type": "code",
   "execution_count": 6,
   "metadata": {},
   "outputs": [],
   "source": [
    "# Constitutive Equations\n",
    "C_N = diag(as_vector([ES, GS]))\n",
    "\n",
    "# Applied Load:\n",
    "F_max = Constant((0.0, 0.0))\n",
    "M_max = Constant(0.0)\n",
    "\n",
    "elastic_energy = 0.5 * (dot(defo, dot(C_N, defo)) + (EI * curv**2)) * dx\n",
    "\n",
    "F_int = derivative(elastic_energy, v, v_)\n",
    "F_ext = (-M_max * theta_ + dot(F_max, u_)) * ds\n",
    "residual = F_int - F_ext\n",
    "tangent_form = derivative(residual, v, dv)"
   ]
  },
  {
   "cell_type": "markdown",
   "metadata": {},
   "source": [
    "## Solver\n",
    "To use our solver we first have to define the type of solver (i.e. displacement control or force control) and solver parameters before using the solver. Note that the correct type of solver has to first be imported (see first cell).\n",
    "### Solver parameters\n",
    "Here the parameters for both types of solvers:\n",
    "\n",
    ">* `psi` : the scalar arc-length parameter. When psi = 1, the method becomes the spherical arc-length method and when psi = 0 the method becomes the cylindrical arc-length method\n",
    ">* `abs_tol` *(optional)* : absolute residual tolerance for the linear solver (default value: 1e-10)\n",
    ">* `rel_tol` *(optional)* : relative residual tolerance for solver; the relative residual is defined as the ratio between the current residual and initial residual (default value: DOLFIN_EPS)\n",
    ">* `lmbda0` : the initial load parameter\n",
    ">* `max_iter` : maximum number of iterations for the linear solver\n",
    ">* `solver` *(optional)*: type of linear solver for the FEniCS linear solve function -- default FEniCS linear solver is used if no argument is used.\n",
    "\n",
    "Aside from these solver parameters, the arguments needed to solve the FEA problem must also be passed into the solver:\n",
    ">* `u` : the solution function\n",
    ">* `F_int` : First variation of strain energy (internal nodal forces)\n",
    ">* `F_ext` : Externally applied load (external applied force)\n",
    ">* `J` : The Jacobian of the residual with respect to the deformation (tangential stiffness matrix)\n",
    ">* `displacement_factor` : The incremental displacement factor\n",
    "\n",
    "The solver can be called by:\n",
    "\n",
    "`solver = force_control(psi, abs_tol, rel_tol, lmbda0, max_iter, u, F_int, F_ext, bcs, J, displacement_factor, solver)`\n",
    "\n",
    "### Using the solver\n",
    "1. Initialize the solver by calling solver.initialize()\n",
    "2. Iteratively call solver.solve() until desired stopping condition"
   ]
  },
  {
   "cell_type": "code",
   "execution_count": 7,
   "metadata": {},
   "outputs": [],
   "source": [
    "# Solver Parameters\n",
    "psi = 1.0\n",
    "abs_tol = 1.0e-6\n",
    "lmbda0 = 0.5 # Positive for Stretch\n",
    "max_iter = 20\n",
    "solver = 'mumps'\n",
    "\n",
    "# Set up arc-length solver\n",
    "solver = displacement_control(psi=psi, lmbda0=lmbda0, max_iter=max_iter, u=v,\n",
    "                       F_int=F_int, F_ext=F_ext, bcs=bcs, J=tangent_form, displacement_factor=apply_disp, solver=solver)"
   ]
  },
  {
   "cell_type": "code",
   "execution_count": 8,
   "metadata": {},
   "outputs": [],
   "source": [
    "disp = [v.vector()[:]]\n",
    "lmbda = [0]\n",
    "# Function space to compute reaction force at each iteration\n",
    "v_reac = Function(V)\n",
    "bcRy = DirichletBC(V.sub(0).sub(1), Constant(1.0), bottom) # take reaction force from the bottom\n",
    "f_reac = [0.0]\n",
    "for ii in range(0, 55):\n",
    "    solver.solve()\n",
    "    if solver.converged:\n",
    "        # Store whole displacement field\n",
    "        disp.append(v.vector()[:])\n",
    "        # Store displacement factor\n",
    "        lmbda.append(apply_disp.t)\n",
    "        # Compute and store reaction force\n",
    "        bcRy.apply(v_reac.vector())\n",
    "        f_reac.append(assemble(action(residual, v_reac)))"
   ]
  },
  {
   "cell_type": "markdown",
   "metadata": {},
   "source": [
    "## Post Processing\n",
    "Here we plot the final deformed shape and the equilibrium path."
   ]
  },
  {
   "cell_type": "code",
   "execution_count": 9,
   "metadata": {},
   "outputs": [],
   "source": [
    "# Get dof coordinates:\n",
    "x_dofs = V.sub(0).sub(0).dofmap().dofs()\n",
    "y_dofs = V.sub(0).sub(1).dofmap().dofs()\n",
    "theta_dofs = V.sub(1).dofmap().dofs()\n",
    "dofs = V.tabulate_dof_coordinates()\n",
    "dof_coords = dofs.reshape((-1, 2))"
   ]
  }
 ],
 "metadata": {
  "kernelspec": {
   "display_name": "Python 3",
   "language": "python",
   "name": "python3"
  },
  "language_info": {
   "codemirror_mode": {
    "name": "ipython",
    "version": 3
   },
   "file_extension": ".py",
   "mimetype": "text/x-python",
   "name": "python",
   "nbconvert_exporter": "python",
   "pygments_lexer": "ipython3",
   "version": "3.11.0"
  },
  "nbformat": 5,
  "nbformat_minor": 4
 }
}
