{
  "cells": [
    {
      "attachments": {},
      "cell_type": "markdown",
      "metadata": {},
      "source": [
        "# Fiber Network\n",
        "\n",
        "The problem provided in this example is a fiber network with fixed-fixed (both displacement and moments) boundary conditions with a prescribed compressive displacement (i.e. nonhomogenous Dirichlet Boundary Condition) on the top boundary. Each fiber is modeled with 2D geometrically exact beams (i.e. Simo-Reissner Beams). For more information on beams [see here](../force_control/beam/README.md).\n",
        "\n",
        "\n",
        "\n",
        "<img src=\"imgs/fiber.png\" width=\"500\">\n"
      ]
    },
    {
      "cell_type": "markdown",
      "metadata": {},
      "source": [
        "# Install FEniCS and FEniCS arclength in Google Colab environment \n",
        "This step will automatically skip if not in a Google Colab environment."
      ]
    },
    {
      "cell_type": "code",
      "execution_count": 1,
      "metadata": {},
      "outputs": [],
      "source": [
        "try:\n",
        "  import google.colab\n",
        "  !wget \"https://fem-on-colab.github.io/releases/fenics-install-real.sh\" -O \"/tmp/fenics-install.sh\" && bash \"/tmp/fenics-install.sh\"\n",
        "  !git clone https://github.com/pprachas/fenics_arclength.git\n",
        "  %cd fenics_arclength\n",
        "  !pip install .\n",
        "  %cd examples/displacement_control\n",
        "\n",
        "except ImportError:\n",
        "  pass"
      ]
    },
    {
      "cell_type": "code",
      "execution_count": 1,
      "metadata": {},
      "outputs": [
        {
          "name": "stdout",
          "output_type": "stream",
          "text": [
            "Nodes shape: (3268, 2)\n",
            "Elements shape: (3505, 2)\n",
            "Regions shape: (3505,)\n",
            "Node coordinate range: [1.10216952 0.        ] [ 99.19977725 100.        ]\n",
            "Sample nodes (first 5): [[12.15555307  2.15525833]\n",
            " [96.14357372  6.23690175]\n",
            " [97.72302373  7.32806088]\n",
            " [93.63362689  5.99763266]\n",
            " [76.10638116  3.43308003]]\n",
            "Sample elements (first 5): [[ 25 562]\n",
            " [562 563]\n",
            " [563 564]\n",
            " [564 565]\n",
            " [565 566]]\n",
            "Unique region labels: [1]\n"
          ]
        },
        {
          "name": "stderr",
          "output_type": "stream",
          "text": [
            "/usr4/me700/yegt/.conda/envs/fiber-env/lib/python3.11/site-packages/dolfin/jit/jit.py:121: RuntimeWarning: mpi4py.MPI.Session size changed, may indicate binary incompatibility. Expected 32 from C header, got 40 from PyObject\n",
            "  def compile_class(cpp_data, mpi_comm=MPI.comm_world):\n"
          ]
        }
      ],
      "source": [
        "%matplotlib inline\n",
        "from dolfin import *\n",
        "import numpy as np\n",
        "import matplotlib.pyplot as plt\n",
        "from displacement_control_solver import displacement_control # import displacement control formulation of arc-length solver\n",
        "\n",
        "#Testing\n",
        "import h5py\n",
        "import numpy as np\n",
        "\n",
        "with h5py.File('voronoi.h5', 'r') as f:\n",
        "    # Read datasets\n",
        "    nodes = f['/data0'][:]  # Node coordinates (3268, 2)\n",
        "    elements = f['/data1'][:]  # Element connectivity (3505, 2)\n",
        "    regions = f['/data2'][:]  # Region labels (3505,)\n",
        "\n",
        "    # Print summary\n",
        "    print(\"Nodes shape:\", nodes.shape)\n",
        "    print(\"Elements shape:\", elements.shape)\n",
        "    print(\"Regions shape:\", regions.shape)\n",
        "    print(\"Node coordinate range:\", nodes.min(axis=0), nodes.max(axis=0))\n",
        "    print(\"Sample nodes (first 5):\", nodes[:5])\n",
        "    print(\"Sample elements (first 5):\", elements[:5])\n",
        "    print(\"Unique region labels:\", np.unique(regions))\n",
        "\n",
        "\n",
        "\n",
        "# Dealing with ufl legacy\n",
        "try:\n",
        "    from ufl import diag, Jacobian, shape\n",
        "except:\n",
        "    from ufl_legacy import diag, Jacobian, shape\n",
        "\n",
        "\n",
        "parameters[\"form_compiler\"][\"cpp_optimize\"] = True\n",
        "parameters[\"form_compiler\"][\"quadrature_degree\"] = 3\n",
        "parameters['reorder_dofs_serial'] = False\n",
        "\n",
        "ffc_options = {\"optimize\": True, \\\n",
        "               \"eliminate_zeros\": True, \\\n",
        "               \"precompute_basis_const\": True, \\\n",
        "               \"precompute_ip_const\": True}"
      ]
    },
    {
      "attachments": {},
      "cell_type": "markdown",
      "metadata": {},
      "source": [
        "## Import Mesh and define function spaces\n",
        "In the case of 2D beams we also define the rotation matrix about the $z$ axis and directional derivative with respect to the beam centerline."
      ]
    },
    {
      "cell_type": "code",
      "execution_count": 2,
      "metadata": {},
      "outputs": [
        {
          "name": "stderr",
          "output_type": "stream",
          "text": [
            "/usr4/me700/yegt/.conda/envs/fiber-env/lib/python3.11/site-packages/dolfin/jit/jit.py:46: RuntimeWarning: mpi4py.MPI.Session size changed, may indicate binary incompatibility. Expected 32 from C header, got 40 from PyObject\n",
            "  if MPI.size(mpi_comm) == 1:\n"
          ]
        }
      ],
      "source": [
        "mesh = Mesh()\n",
        "with XDMFFile('voronoi.xdmf') as infile:\n",
        "    infile.read(mesh)\n",
        "    \n",
        "\n",
        "Ue = VectorElement(\"CG\", mesh.ufl_cell(), 2, dim=2) # displacement\n",
        "Te = FiniteElement(\"CG\", mesh.ufl_cell(), 1) # rotation\n",
        "\n",
        "\n",
        "V = FunctionSpace(mesh, MixedElement([Ue, Te]))   \n",
        "\n",
        "v_ = TestFunction(V)\n",
        "u_, theta_ = split(v_)\n",
        "dv = TrialFunction(V)\n",
        "v = Function(V, name=\"Generalized displacement\")\n",
        "u, theta = split(v)\n",
        "\n",
        "VR = TensorFunctionSpace(mesh, \"DG\",
